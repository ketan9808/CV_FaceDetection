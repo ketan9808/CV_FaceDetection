{
 "cells": [
  {
   "cell_type": "code",
   "execution_count": 2,
   "metadata": {},
   "outputs": [],
   "source": [
    "import cv2"
   ]
  },
  {
   "cell_type": "code",
   "execution_count": 3,
   "metadata": {},
   "outputs": [],
   "source": [
    "fd = cv2.CascadeClassifier(\"/home/ketan/.local/lib/python3.6/site-packages/cv2/data/haarcascade_frontalface_alt2.xml\")"
   ]
  },
  {
   "cell_type": "code",
   "execution_count": 3,
   "metadata": {},
   "outputs": [],
   "source": [
    "v = cv2.VideoCapture(0)\n",
    "while True:\n",
    "    r,i = v.read()\n",
    "    j = cv2.cvtColor(i,cv2.COLOR_BGR2GRAY)\n",
    "    f = fd.detectMultiScale(j,1.3,5)\n",
    "    for [x,y,w,h] in f:\n",
    "        cv2.rectangle(i,(x,y),(x+w, y+h),(0,0,255),5)\n",
    "    cv2.imshow('video',i)\n",
    "    k = cv2.waitKey(5)\n",
    "    if k == ord('q'):\n",
    "        cv2.destroyAllWindows()\n",
    "        del v\n",
    "        break"
   ]
  },
  {
   "cell_type": "code",
   "execution_count": 4,
   "metadata": {},
   "outputs": [],
   "source": [
    "v = cv2.VideoCapture(0)\n",
    "while True:\n",
    "    r,i = v.read()\n",
    "    if r == True:\n",
    "        j = cv2.cvtColor(i,cv2.COLOR_BGR2GRAY)\n",
    "        r,k = cv2.threshold(j, 127,255,0)\n",
    "        f = fd.detectMultiScale(i,1.3,5)\n",
    "        for [x,y,w,h] in f:\n",
    "            cv2.rectangle(i,(x,y),(x+w, y+h),(0,0,255),5)\n",
    "        cv2.imshow('binary',k)\n",
    "        cv2.imshow(\"1\",i)\n",
    "        cv2.imshow(\"gray image\",j)\n",
    "        k = cv2.waitKey(5)\n",
    "        if k == ord('q'):\n",
    "            cv2.destroyAllWindows()\n",
    "            del v\n",
    "            break\n",
    "        else:\n",
    "            continue"
   ]
  },
  {
   "cell_type": "code",
   "execution_count": null,
   "metadata": {},
   "outputs": [],
   "source": []
  }
 ],
 "metadata": {
  "kernelspec": {
   "display_name": "Python 3",
   "language": "python",
   "name": "python3"
  },
  "language_info": {
   "codemirror_mode": {
    "name": "ipython",
    "version": 2
   },
   "file_extension": ".py",
   "mimetype": "text/x-python",
   "name": "python",
   "nbconvert_exporter": "python",
   "pygments_lexer": "ipython2",
   "version": "2.7.15+"
  }
 },
 "nbformat": 4,
 "nbformat_minor": 2
}
