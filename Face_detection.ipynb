{
 "cells": [
  {
   "cell_type": "code",
   "execution_count": 2,
   "metadata": {},
   "outputs": [],
   "source": [
    "import cv2"
   ]
  },
  {
   "cell_type": "code",
   "execution_count": 4,
   "metadata": {},
   "outputs": [],
   "source": [
    "fd = cv2.CascadeClassifier(\"/home/ketan/.local/lib/python3.6/site-packages/cv2/data/haarcascade_frontalface_alt2.xml\")\n",
    "# The image classifier with the path of the data inside the parenthesi"
   ]
  },
  {
   "cell_type": "code",
   "execution_count": 5,
   "metadata": {},
   "outputs": [],
   "source": [
    "v = cv2.VideoCapture(0) # creating a camera object, 0 is the device id\n",
    "while True:\n",
    "    r,i = v.read() # reading and image from camera\n",
    "    if r == True:\n",
    "        j = cv2.cvtColor(i,cv2.COLOR_BGR2GRAY) # converting it into Gray scale code\n",
    "        r,k = cv2.threshold(j, 127,255,0) # creating a black and white image\n",
    "        f = fd.detectMultiScale(j,1.3,5) # Detecting the face in the captured picture\n",
    "        for [x,y,w,h] in f:\n",
    "            cv2.rectangle(i,(x,y),(x+w, y+h),(0,0,255),5) # Draw the rectangle over the faces\n",
    "        cv2.imshow('video',i) # the image with the rectangle around the face coloured image\n",
    "        cv2.imshow('binary',k) # bkack n white image\n",
    "        cv2.imshow(\"gray image\",j) # Gray scale image\n",
    "        k = cv2.waitKey(5) # Waiting for the keyboard input for 5ms and then moveon eirhout doing anything\n",
    "        if k == ord('q'):\n",
    "            cv2.destroyAllWindows() # destroy all windows\n",
    "            del v # delete camera object so that the camera is closed after use\n",
    "            break\n",
    "        else:\n",
    "            continue"
   ]
  },
  {
   "cell_type": "code",
   "execution_count": null,
   "metadata": {},
   "outputs": [],
   "source": []
  }
 ],
 "metadata": {
  "kernelspec": {
   "display_name": "Python 3",
   "language": "python3",
   "name": "python3"
  },
  "language_info": {
   "codemirror_mode": {
    "name": "ipython",
    "version": 3
   },
   "file_extension": ".py",
   "mimetype": "text/x-python",
   "name": "python",
   "nbconvert_exporter": "python",
   "pygments_lexer": "ipython3",
   "version": "3.6.8"
  }
 },
 "nbformat": 4,
 "nbformat_minor": 2
}
