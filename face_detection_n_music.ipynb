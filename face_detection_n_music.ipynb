{
 "cells": [
  {
   "cell_type": "code",
   "execution_count": 1,
   "metadata": {},
   "outputs": [],
   "source": [
    "import cv2\n",
    "import vlc"
   ]
  },
  {
   "cell_type": "code",
   "execution_count": 2,
   "metadata": {},
   "outputs": [],
   "source": [
    "fd = cv2.CascadeClassifier(\"/home/ketan/.local/lib/python3.6/site-packages/cv2/data/haarcascade_frontalface_alt2.xml\")"
   ]
  },
  {
   "cell_type": "code",
   "execution_count": 3,
   "metadata": {
    "scrolled": true
   },
   "outputs": [],
   "source": [
    "v = cv2.VideoCapture(0) # Camera objct with the device id inside the parenthesis\n",
    "player = vlc.MediaPlayer(\"/home/ketan/Music/Holly/Lauv - I Like Me Better [Official Video].mp3\")\n",
    "# Creating mediaplayer object with the path of the song inside the parenthesis\n",
    "flag = 0\n",
    "while True:\n",
    "    r,i = v.read() # capture image\n",
    "    j = cv2.cvtColor(i,cv2.COLOR_BGR2GRAY) # convert the image into Gray Scale image\n",
    "    f = fd.detectMultiScale(j,1.3,5) # detect face in the image\n",
    "    if len(f) >0 :\n",
    "        player.play() # play music if any face is detected\n",
    "        flag = 0\n",
    "    if len(f) == 0 and flag == 0:\n",
    "        player.pause() # pause the music if no face is detected\n",
    "        flag = 1\n",
    "# the falg is used here to pause the song only once when no face is detected\n",
    "    for [x,y,w,h] in f:\n",
    "        cv2.rectangle(i,(x,y),(x+w, y+h),(0,0,255),5) # creating the rectangeles around the faces\n",
    "    cv2.imshow('video',i) # output shown\n",
    "    k = cv2.waitKey(5) # waiting for the keyboard input\n",
    "    if k == ord('q'):\n",
    "        cv2.destroyAllWindows() \n",
    "        del v # delete camera object\n",
    "        player.stop() # stop the music before deleting the player object\n",
    "        # otherwise it will continue to play\n",
    "        del player\n",
    "        break\n",
    "    else:\n",
    "        continue"
   ]
  },
  {
   "cell_type": "code",
   "execution_count": null,
   "metadata": {},
   "outputs": [],
   "source": []
  }
 ],
 "metadata": {
  "kernelspec": {
   "display_name": "Python 3",
   "language": "python3",
   "name": "python3"
  },
  "language_info": {
   "codemirror_mode": {
    "name": "ipython",
    "version": 3
   },
   "file_extension": ".py",
   "mimetype": "text/x-python",
   "name": "python",
   "nbconvert_exporter": "python",
   "pygments_lexer": "ipython3",
   "version": "3.6.8"
  }
 },
 "nbformat": 4,
 "nbformat_minor": 2
}
